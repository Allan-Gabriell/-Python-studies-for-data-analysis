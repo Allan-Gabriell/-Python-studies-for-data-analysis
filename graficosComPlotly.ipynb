{
 "cells": [
  {
   "cell_type": "markdown",
   "metadata": {},
   "source": [
    "## Análise de dados gerando gráficos com o plotly"
   ]
  },
  {
   "cell_type": "markdown",
   "metadata": {},
   "source": [
    "#### 1 - Importando a biblioteca\n"
   ]
  },
  {
   "cell_type": "code",
   "execution_count": 57,
   "metadata": {},
   "outputs": [],
   "source": [
    "import plotly.express as px\n",
    "import plotly.io as pio"
   ]
  },
  {
   "cell_type": "markdown",
   "metadata": {},
   "source": [
    "#### 2 - Criandou gráfico"
   ]
  },
  {
   "cell_type": "code",
   "execution_count": 70,
   "metadata": {},
   "outputs": [
    {
     "name": "stdout",
     "output_type": "stream",
     "text": [
      "Abrindo em uma sessão de navegador existente.\n"
     ]
    }
   ],
   "source": [
    "dataX = ['2028', '2019', '2020', '2021']\n",
    "dataY = [10, 20, 5, 35]\n",
    "\n",
    "# Variável que vai receber o gráfico (como se fosse uma figura)\n",
    "fig = px.line(x = dataX, y = dataY, title= 'Vendas X Ano', width= 600, height= 600, line_shape= 'spline')\n",
    "\n",
    "# Exibe no navegador\n",
    "pio.renderers.default = 'browser'\n",
    "\n",
    "# Precisa de um biblioteca instalada para plotar a biblioteca segue abaixo\n",
    "# pip install --upgrade nbformat\n",
    "\n",
    "# Plotand\n",
    "pio.show(fig)"
   ]
  },
  {
   "cell_type": "markdown",
   "metadata": {},
   "source": [
    "#### 3 - Alterando o eixo Y"
   ]
  },
  {
   "cell_type": "code",
   "execution_count": 59,
   "metadata": {},
   "outputs": [
    {
     "name": "stdout",
     "output_type": "stream",
     "text": [
      "Abrindo em uma sessão de navegador existente.\n"
     ]
    }
   ],
   "source": [
    "dataX = ['2028', '2019', '2020', '2021']\n",
    "dataY = [10, 20, 5, 35]\n",
    "\n",
    "\n",
    "fig = px.line(x = dataX, y = dataY, title= 'Vendas X Ano', width= 600, height= 600, line_shape= 'spline')\n",
    "fig.update_yaxes(title = 'Vendas', title_font_color = 'blue')\n",
    "\n",
    "pio.renderers.default = 'browser'\n",
    "pio.show(fig)"
   ]
  },
  {
   "cell_type": "markdown",
   "metadata": {},
   "source": [
    "#### 4 - Alterando o eixo X"
   ]
  },
  {
   "cell_type": "code",
   "execution_count": 60,
   "metadata": {},
   "outputs": [
    {
     "name": "stdout",
     "output_type": "stream",
     "text": [
      "Abrindo em uma sessão de navegador existente.\n"
     ]
    }
   ],
   "source": [
    "dataX = ['2028', '2019', '2020', '2021']\n",
    "dataY = [10, 20, 5, 35]\n",
    "\n",
    "\n",
    "fig = px.line(x = dataX, y = dataY, title= 'Vendas X Ano', width= 600, height= 600, line_shape= 'spline')\n",
    "fig.update_xaxes(title = 'Anos', title_font_color = 'blue')\n",
    "\n",
    "pio.renderers.default = 'browser'\n",
    "pio.show(fig)"
   ]
  },
  {
   "cell_type": "markdown",
   "metadata": {},
   "source": [
    "#### 5 - Criando um gráfico de Pizza"
   ]
  },
  {
   "cell_type": "code",
   "execution_count": 75,
   "metadata": {},
   "outputs": [
    {
     "name": "stdout",
     "output_type": "stream",
     "text": [
      "Abrindo em uma sessão de navegador existente.\n"
     ]
    }
   ],
   "source": [
    "dataX = ['2028', '2019', '2020', '2021']\n",
    "dataY = [10, 20, 5, 35]\n",
    "\n",
    "fig = px.pie(names= dataX, values= dataY, width= 600, height= 600)\n",
    "fig.update_traces(title_text = 'Pizza', title_position = 'top left')\n",
    "\n",
    "pio.renderers.default = 'browser'\n",
    "pio.show(fig)"
   ]
  },
  {
   "cell_type": "markdown",
   "metadata": {},
   "source": [
    "#### 6 - Criando gráfico de Barras"
   ]
  },
  {
   "cell_type": "code",
   "execution_count": 72,
   "metadata": {},
   "outputs": [
    {
     "name": "stdout",
     "output_type": "stream",
     "text": [
      "Abrindo em uma sessão de navegador existente.\n"
     ]
    }
   ],
   "source": [
    "dataX = ['2028', '2019', '2020', '2021']\n",
    "dataY = [10, 20, 5, 35]\n",
    "\n",
    "fig = px.bar(x = dataX, y = dataY, width= 600, height= 600)\n",
    "\n",
    "pio.renderers.default = 'browser'\n",
    "pio.show(fig)"
   ]
  },
  {
   "cell_type": "markdown",
   "metadata": {},
   "source": [
    "#### 7 - Criando gráfico de dispersão"
   ]
  },
  {
   "cell_type": "code",
   "execution_count": 73,
   "metadata": {},
   "outputs": [
    {
     "name": "stdout",
     "output_type": "stream",
     "text": [
      "Abrindo em uma sessão de navegador existente.\n"
     ]
    }
   ],
   "source": [
    "dataX = ['1', '4', '6', '7', '8', '4', '3', '2', '1', '5']\n",
    "dataY = [10, 20, 5, 35, 2, 3, 40, 25, 16, 27]\n",
    "\n",
    "fig = px.scatter(x = dataX, y = dataY, width= 600, height= 600)\n",
    "\n",
    "pio.renderers.default = 'browser'\n",
    "pio.show(fig)"
   ]
  },
  {
   "cell_type": "markdown",
   "metadata": {},
   "source": [
    "#### Caso de mercade de trabalho: Gráfico de Gantt\n"
   ]
  },
  {
   "cell_type": "code",
   "execution_count": 64,
   "metadata": {},
   "outputs": [
    {
     "data": {
      "text/html": [
       "<div>\n",
       "<style scoped>\n",
       "    .dataframe tbody tr th:only-of-type {\n",
       "        vertical-align: middle;\n",
       "    }\n",
       "\n",
       "    .dataframe tbody tr th {\n",
       "        vertical-align: top;\n",
       "    }\n",
       "\n",
       "    .dataframe thead th {\n",
       "        text-align: right;\n",
       "    }\n",
       "</style>\n",
       "<table border=\"1\" class=\"dataframe\">\n",
       "  <thead>\n",
       "    <tr style=\"text-align: right;\">\n",
       "      <th></th>\n",
       "      <th>Tarefa</th>\n",
       "      <th>Início</th>\n",
       "      <th>Fim</th>\n",
       "    </tr>\n",
       "  </thead>\n",
       "  <tbody>\n",
       "    <tr>\n",
       "      <th>0</th>\n",
       "      <td>Assinar contrato</td>\n",
       "      <td>2021-07-10</td>\n",
       "      <td>2021-07-15</td>\n",
       "    </tr>\n",
       "    <tr>\n",
       "      <th>1</th>\n",
       "      <td>Mobilizar equipe em campo</td>\n",
       "      <td>2021-07-22</td>\n",
       "      <td>2021-07-27</td>\n",
       "    </tr>\n",
       "    <tr>\n",
       "      <th>2</th>\n",
       "      <td>Treinar equipe segundo procedimentos de segurança</td>\n",
       "      <td>2021-07-27</td>\n",
       "      <td>2021-07-30</td>\n",
       "    </tr>\n",
       "    <tr>\n",
       "      <th>3</th>\n",
       "      <td>Iniciar desmontagem  da UG</td>\n",
       "      <td>2021-07-30</td>\n",
       "      <td>2021-08-29</td>\n",
       "    </tr>\n",
       "    <tr>\n",
       "      <th>4</th>\n",
       "      <td>Transportar  turbina</td>\n",
       "      <td>2021-09-03</td>\n",
       "      <td>2021-09-08</td>\n",
       "    </tr>\n",
       "    <tr>\n",
       "      <th>5</th>\n",
       "      <td>Transportar gerador</td>\n",
       "      <td>2021-08-29</td>\n",
       "      <td>2021-09-03</td>\n",
       "    </tr>\n",
       "    <tr>\n",
       "      <th>6</th>\n",
       "      <td>Realizar reparos na turbina</td>\n",
       "      <td>2021-09-08</td>\n",
       "      <td>2021-11-07</td>\n",
       "    </tr>\n",
       "    <tr>\n",
       "      <th>7</th>\n",
       "      <td>Realizar  reparos no gerador</td>\n",
       "      <td>2021-09-03</td>\n",
       "      <td>2021-10-18</td>\n",
       "    </tr>\n",
       "    <tr>\n",
       "      <th>8</th>\n",
       "      <td>Transportar componentes para usina</td>\n",
       "      <td>2021-11-07</td>\n",
       "      <td>2021-11-12</td>\n",
       "    </tr>\n",
       "    <tr>\n",
       "      <th>9</th>\n",
       "      <td>Realizar Montagem</td>\n",
       "      <td>2021-11-12</td>\n",
       "      <td>2022-01-11</td>\n",
       "    </tr>\n",
       "  </tbody>\n",
       "</table>\n",
       "</div>"
      ],
      "text/plain": [
       "                                              Tarefa     Início        Fim\n",
       "0                                   Assinar contrato 2021-07-10 2021-07-15\n",
       "1                          Mobilizar equipe em campo 2021-07-22 2021-07-27\n",
       "2  Treinar equipe segundo procedimentos de segurança 2021-07-27 2021-07-30\n",
       "3                         Iniciar desmontagem  da UG 2021-07-30 2021-08-29\n",
       "4                               Transportar  turbina 2021-09-03 2021-09-08\n",
       "5                                Transportar gerador 2021-08-29 2021-09-03\n",
       "6                        Realizar reparos na turbina 2021-09-08 2021-11-07\n",
       "7                       Realizar  reparos no gerador 2021-09-03 2021-10-18\n",
       "8                 Transportar componentes para usina 2021-11-07 2021-11-12\n",
       "9                                  Realizar Montagem 2021-11-12 2022-01-11"
      ]
     },
     "metadata": {},
     "output_type": "display_data"
    }
   ],
   "source": [
    "# Importando dados\n",
    "import pandas as pd\n",
    "\n",
    "tabel = pd.read_excel('data/Tarefas.xlsx')\n",
    "display(tabel)"
   ]
  },
  {
   "cell_type": "code",
   "execution_count": 74,
   "metadata": {},
   "outputs": [
    {
     "name": "stdout",
     "output_type": "stream",
     "text": [
      "Abrindo em uma sessão de navegador existente.\n"
     ]
    }
   ],
   "source": [
    "fig = px.timeline(tabel, x_start = 'Início', x_end = 'Fim', y = 'Tarefa', width= 1000, height= 600)\n",
    "fig.update_yaxes(autorange = 'reversed')\n",
    "\n",
    "pio.renderers.default = 'browser'\n",
    "pio.show(fig)"
   ]
  }
 ],
 "metadata": {
  "kernelspec": {
   "display_name": "Python 3",
   "language": "python",
   "name": "python3"
  },
  "language_info": {
   "codemirror_mode": {
    "name": "ipython",
    "version": 3
   },
   "file_extension": ".py",
   "mimetype": "text/x-python",
   "name": "python",
   "nbconvert_exporter": "python",
   "pygments_lexer": "ipython3",
   "version": "3.10.12"
  }
 },
 "nbformat": 4,
 "nbformat_minor": 2
}
